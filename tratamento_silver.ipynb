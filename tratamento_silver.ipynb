{
 "cells": [
  {
   "cell_type": "code",
   "execution_count": 0,
   "metadata": {
    "application/vnd.databricks.v1+cell": {
     "cellMetadata": {
      "byteLimit": 2048000,
      "implicitDf": true,
      "rowLimit": 10000
     },
     "collapsed": true,
     "inputWidgets": {},
     "nuid": "625d5767-9d72-48de-a094-0c07c7da1dd8",
     "showTitle": false,
     "tableResultSettingsMap": {},
     "title": ""
    }
   },
   "outputs": [],
   "source": [
    "%sql\n",
    "MERGE INTO projetos.silver.ecommerce_transactions AS target\n",
    "USING (                              \n",
    "  WITH treated_base AS (\n",
    "    SELECT\n",
    "      event_date,\n",
    "      to_timestamp(CONCAT(event_date,' ',event_time)) AS event_timestamp,\n",
    "      invoice_no,\n",
    "      stock_code,\n",
    "      description,\n",
    "      quantity,\n",
    "      unit_price,\n",
    "      customer_id,\n",
    "      country,\n",
    "      CURRENT_TIMESTAMP() AS ingestion_timestamp,\n",
    "      MD5(CONCAT(invoice_no, stock_code, quantity, unit_price)) AS hash,\n",
    "      'ecommerce_sales.csv' AS data_source, \n",
    "      REPLACE(REPLACE(CONCAT('run_', CURRENT_DATE()), ' ', ''), '-', '') AS pipeline_run_id \n",
    "    FROM (\n",
    "      SELECT\n",
    "        to_date(REPLACE(substring_index(InvoiceDate,' ',1), '/', '-'),'M-d-yyyy') AS event_date,\n",
    "        CASE\n",
    "          WHEN LENGTH(substring_index(substring_index(InvoiceDate,' ', -1), ':', 1)) = 1\n",
    "          THEN CONCAT('0',\n",
    "                      substring_index(substring_index(InvoiceDate,' ', -1), ':', 1),\n",
    "                      ':',\n",
    "                      substring_index(InvoiceDate,':', -1))\n",
    "          ELSE substring_index(InvoiceDate,' ', -1)\n",
    "        END                                     AS event_time,\n",
    "        InvoiceNo   AS invoice_no,\n",
    "        StockCode   AS stock_code,\n",
    "        Description AS description,\n",
    "        Quantity    AS quantity,\n",
    "        UnitPrice   AS unit_price,\n",
    "        CustomerID  AS customer_id,\n",
    "        Country     AS country\n",
    "      FROM projetos.bronze.ecommerce_transactions\n",
    "      WHERE StockCode REGEXP '^[^A-Z]' AND Quantity > 0 AND UnitPrice > 0\n",
    "    )\n",
    "  )\n",
    "  SELECT * FROM treated_base\n",
    ") AS source\n",
    "ON  target.event_date      = source.event_date\n",
    "AND target.event_timestamp = source.event_timestamp\n",
    "AND target.invoice_no      = source.invoice_no\n",
    "AND target.stock_code      = source.stock_code\n",
    "AND target.description     = source.description\n",
    "AND target.quantity        = source.quantity\n",
    "AND target.unit_price      = source.unit_price\n",
    "AND target.customer_id     = source.customer_id\n",
    "AND target.country         = source.country\n",
    "AND target.hash            = source.hash\n",
    "WHEN NOT MATCHED THEN\n",
    "  INSERT (event_date, event_timestamp, invoice_no, stock_code, description, quantity, unit_price, customer_id, country, ingestion_timestamp, hash, data_source, pipeline_run_id)\n",
    "  VALUES (source.event_date, source.event_timestamp, source.invoice_no, source.stock_code, source.description, source.quantity, source.unit_price, source.customer_id, source.country, source.ingestion_timestamp, source.hash, source.data_source, source.pipeline_run_id)"
   ]
  },
  {
   "cell_type": "code",
   "execution_count": 0,
   "metadata": {
    "application/vnd.databricks.v1+cell": {
     "cellMetadata": {
      "byteLimit": 2048000,
      "rowLimit": 10000
     },
     "collapsed": true,
     "inputWidgets": {},
     "nuid": "1fc99397-c37d-4c95-afad-8748f0244d35",
     "showTitle": false,
     "tableResultSettingsMap": {},
     "title": ""
    }
   },
   "outputs": [],
   "source": [
    "%sql\n",
    "OPTIMIZE projetos.silver.ecommerce_transactions;"
   ]
  },
  {
   "cell_type": "code",
   "execution_count": 0,
   "metadata": {
    "application/vnd.databricks.v1+cell": {
     "cellMetadata": {
      "byteLimit": 2048000,
      "implicitDf": true,
      "rowLimit": 10000
     },
     "inputWidgets": {},
     "nuid": "5e8bccbf-a0d2-4834-bfb1-5ac342bfac22",
     "showTitle": false,
     "tableResultSettingsMap": {},
     "title": ""
    }
   },
   "outputs": [],
   "source": [
    "%sql\n",
    "ALTER TABLE projetos.silver.ecommerce_transactions SET TAGS (\n",
    "  'last_run' = '${runtime}'\n",
    ")"
   ]
  }
 ],
 "metadata": {
  "application/vnd.databricks.v1+notebook": {
   "computePreferences": null,
   "dashboards": [],
   "environmentMetadata": {
    "base_environment": "",
    "environment_version": "2"
   },
   "inputWidgetPreferences": null,
   "language": "python",
   "notebookMetadata": {
    "mostRecentlyExecutedCommandWithImplicitDF": {
     "commandId": 8271108246514449,
     "dataframes": [
      "_sqldf"
     ]
    },
    "pythonIndentUnit": 4
   },
   "notebookName": "tratamento_silver",
   "widgets": {
    "runtime": {
     "currentValue": "",
     "nuid": "8c50eb87-eba3-4a2d-b859-4d18a37090b1",
     "typedWidgetInfo": {
      "autoCreated": false,
      "defaultValue": "",
      "label": "",
      "name": "runtime",
      "options": {
       "widgetDisplayType": "Text",
       "validationRegex": null
      },
      "parameterDataType": "String"
     },
     "widgetInfo": {
      "widgetType": "text",
      "defaultValue": "",
      "label": "",
      "name": "runtime",
      "options": {
       "widgetType": "text",
       "autoCreated": false,
       "validationRegex": null
      }
     }
    }
   }
  },
  "language_info": {
   "name": "python"
  }
 },
 "nbformat": 4,
 "nbformat_minor": 0
}
