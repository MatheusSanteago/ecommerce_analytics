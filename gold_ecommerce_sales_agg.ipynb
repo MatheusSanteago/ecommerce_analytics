{
 "cells": [
  {
   "cell_type": "code",
   "execution_count": 0,
   "metadata": {
    "application/vnd.databricks.v1+cell": {
     "cellMetadata": {
      "byteLimit": 2048000,
      "implicitDf": true,
      "rowLimit": 10000
     },
     "inputWidgets": {},
     "nuid": "552ff96c-a8c4-4669-b3a4-248bb3f82ed2",
     "showTitle": false,
     "tableResultSettingsMap": {},
     "title": ""
    }
   },
   "outputs": [],
   "source": [
    "%sql\n",
    "MERGE INTO projetos.gold.ecommerce_sales_agg AS target\n",
    "USING (                              \n",
    "  SELECT event_date, \n",
    "        event_timestamp, \n",
    "        customer_id,\n",
    "        invoice_no, \n",
    "        SUM(quantity) as items_carts, \n",
    "        CAST(SUM(total_price) AS DECIMAL(18,2)) as cart_price, \n",
    "        country\n",
    "  FROM (\n",
    "    SELECT \n",
    "      event_date, \n",
    "      event_timestamp, \n",
    "      customer_id,\n",
    "      invoice_no, \n",
    "      quantity, \n",
    "      (quantity * unit_price) as total_price, \n",
    "      country\n",
    "    FROM projetos.silver.ecommerce_transactions\n",
    "  )\n",
    "  GROUP BY ALL\n",
    ") AS source\n",
    "ON  target.event_date      = source.event_date\n",
    "AND target.event_timestamp = source.event_timestamp\n",
    "AND target.invoice_no      = source.invoice_no\n",
    "AND target.customer_id     = source.customer_id\n",
    "AND target.items_carts     = source.items_carts\n",
    "AND target.cart_price      = source.cart_price\n",
    "AND target.country         = source.country\n",
    "WHEN NOT MATCHED THEN\n",
    "  INSERT (event_date, event_timestamp, invoice_no, customer_id, items_carts, cart_price, country)\n",
    "  VALUES (source.event_date, source.event_timestamp, source.invoice_no, source.customer_id, source.items_carts, source.cart_price, source.country)"
   ]
  },
  {
   "cell_type": "code",
   "execution_count": 0,
   "metadata": {
    "application/vnd.databricks.v1+cell": {
     "cellMetadata": {
      "byteLimit": 2048000,
      "implicitDf": true,
      "rowLimit": 10000
     },
     "inputWidgets": {},
     "nuid": "51c66928-0c4f-468b-a38d-a217954b8318",
     "showTitle": false,
     "tableResultSettingsMap": {},
     "title": ""
    }
   },
   "outputs": [],
   "source": [
    "%sql\n",
    "OPTIMIZE projetos.gold.ecommerce_sales_agg;"
   ]
  },
  {
   "cell_type": "code",
   "execution_count": 0,
   "metadata": {
    "application/vnd.databricks.v1+cell": {
     "cellMetadata": {
      "byteLimit": 2048000,
      "implicitDf": true,
      "rowLimit": 10000
     },
     "inputWidgets": {},
     "nuid": "c4fae5ca-e617-4f1f-9da8-7c16ebc66604",
     "showTitle": false,
     "tableResultSettingsMap": {},
     "title": ""
    }
   },
   "outputs": [],
   "source": [
    "%sql\n",
    "ALTER TABLE projetos.gold.ecommerce_sales_agg SET TAGS (\n",
    "  'last_run' = '${runtime}'\n",
    ")"
   ]
  }
 ],
 "metadata": {
  "application/vnd.databricks.v1+notebook": {
   "computePreferences": null,
   "dashboards": [],
   "environmentMetadata": {
    "base_environment": "",
    "environment_version": "2"
   },
   "inputWidgetPreferences": null,
   "language": "python",
   "notebookMetadata": {
    "mostRecentlyExecutedCommandWithImplicitDF": {
     "commandId": 6439179212835506,
     "dataframes": [
      "_sqldf"
     ]
    },
    "pythonIndentUnit": 4
   },
   "notebookName": "gold_ecommerce_sales_agg",
   "widgets": {
    "runtime": {
     "currentValue": "",
     "nuid": "62bf283c-f4f1-453e-be76-c25180c2ed10",
     "typedWidgetInfo": {
      "autoCreated": false,
      "defaultValue": "",
      "label": "",
      "name": "runtime",
      "options": {
       "widgetDisplayType": "Text",
       "validationRegex": null
      },
      "parameterDataType": "String"
     },
     "widgetInfo": {
      "widgetType": "text",
      "defaultValue": "",
      "label": "",
      "name": "runtime",
      "options": {
       "widgetType": "text",
       "autoCreated": false,
       "validationRegex": null
      }
     }
    }
   }
  },
  "language_info": {
   "name": "python"
  }
 },
 "nbformat": 4,
 "nbformat_minor": 0
}
