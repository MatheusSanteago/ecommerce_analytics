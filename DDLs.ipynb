{
 "cells": [
  {
   "cell_type": "code",
   "execution_count": 0,
   "metadata": {
    "application/vnd.databricks.v1+cell": {
     "cellMetadata": {
      "byteLimit": 2048000,
      "implicitDf": true,
      "rowLimit": 10000
     },
     "inputWidgets": {},
     "nuid": "2dafe12e-318b-4952-9bb2-5d9d5b14dca2",
     "showTitle": false,
     "tableResultSettingsMap": {},
     "title": ""
    }
   },
   "outputs": [],
   "source": [
    "%sql\n",
    "CREATE TABLE IF NOT EXISTS projetos.silver.ecommerce_transactions (\n",
    "  id BIGINT GENERATED ALWAYS AS IDENTITY PRIMARY KEY COMMENT 'Unique identifier for the transaction record.',\n",
    "  event_date DATE NOT NULL COMMENT 'Date of the transaction, used for partitioning.',\n",
    "  event_timestamp TIMESTAMP COMMENT 'Full timestamp of the transaction event.',\n",
    "  invoice_no STRING COMMENT 'Identifier for the invoice, linking multiple items to a single sale.',\n",
    "  stock_code STRING COMMENT 'Product identifier code (SKU).',\n",
    "  description STRING COMMENT 'Product description.',\n",
    "  quantity BIGINT COMMENT 'Number of units for the specific product. Can be negative for returns.',\n",
    "  unit_price DOUBLE COMMENT 'Price per one unit of the product.',\n",
    "  customer_id BIGINT COMMENT 'Identifier for the customer.',\n",
    "  country STRING COMMENT 'Country where the transaction occurred.',\n",
    "  ingestion_timestamp TIMESTAMP_NTZ DEFAULT CURRENT_TIMESTAMP() COMMENT 'Timestamp when the record was processed into the silver layer.',\n",
    "  hash VARCHAR(32) COMMENT 'MD5 hash of the row content to track changes from the source.',\n",
    "  data_source VARCHAR(1024) COMMENT 'Source system or file path where the data originated.',\n",
    "  pipeline_run_id VARCHAR(255) COMMENT 'Unique ID of the pipeline run that processed this record.'\n",
    ")\n",
    "USING DELTA\n",
    "PARTITIONED BY (event_date)\n",
    "COMMENT 'Cleaned and enriched table of individual e-commerce transactions. This is the single source of truth for all sales line items.'\n",
    "TBLPROPERTIES('delta.feature.allowColumnDefaults' = 'supported')"
   ]
  },
  {
   "cell_type": "code",
   "execution_count": 0,
   "metadata": {
    "application/vnd.databricks.v1+cell": {
     "cellMetadata": {
      "byteLimit": 2048000,
      "implicitDf": true,
      "rowLimit": 10000
     },
     "inputWidgets": {},
     "nuid": "820c63e4-94a3-4886-bcab-833ddbbca5e6",
     "showTitle": false,
     "tableResultSettingsMap": {},
     "title": ""
    }
   },
   "outputs": [],
   "source": [
    "%sql\n",
    "CREATE TABLE IF NOT EXISTS projetos.gold.ecommerce_sales_agg (\n",
    "  id BIGINT GENERATED ALWAYS AS IDENTITY PRIMARY KEY COMMENT 'Unique identifier for the aggregated record.',\n",
    "  event_date DATE NOT NULL COMMENT 'Date of the sales event, used for partitioning.',\n",
    "  event_timestamp TIMESTAMP COMMENT 'Timestamp of the first event associated with the invoice.',\n",
    "  customer_id BIGINT COMMENT 'Identifier for the customer.',\n",
    "  invoice_no STRING COMMENT 'Unique identifier for the invoice or sale.',\n",
    "  items_carts BIGINT COMMENT 'Total number of items included in the invoice.',\n",
    "  cart_price DECIMAL(18, 2) COMMENT 'Total price for all items in the invoice.',\n",
    "  country STRING COMMENT 'Country where the sale occurred.'\n",
    ")\n",
    "USING DELTA\n",
    "PARTITIONED BY (event_date)\n",
    "COMMENT 'Aggregated daily sales data, summarized by invoice. This is the primary table for BI dashboards and sales analytics.'"
   ]
  }
 ],
 "metadata": {
  "application/vnd.databricks.v1+notebook": {
   "computePreferences": null,
   "dashboards": [],
   "environmentMetadata": {
    "base_environment": "",
    "environment_version": "2"
   },
   "inputWidgetPreferences": null,
   "language": "python",
   "notebookMetadata": {
    "mostRecentlyExecutedCommandWithImplicitDF": {
     "commandId": 6439179212835509,
     "dataframes": [
      "_sqldf"
     ]
    },
    "pythonIndentUnit": 4
   },
   "notebookName": "DDLs",
   "widgets": {}
  },
  "language_info": {
   "name": "python"
  }
 },
 "nbformat": 4,
 "nbformat_minor": 0
}
