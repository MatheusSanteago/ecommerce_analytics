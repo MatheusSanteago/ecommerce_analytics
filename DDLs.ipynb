{
 "cells": [
  {
   "cell_type": "code",
   "execution_count": 0,
   "metadata": {
    "application/vnd.databricks.v1+cell": {
     "cellMetadata": {
      "byteLimit": 2048000,
      "implicitDf": true,
      "rowLimit": 10000
     },
     "inputWidgets": {},
     "nuid": "2dafe12e-318b-4952-9bb2-5d9d5b14dca2",
     "showTitle": false,
     "tableResultSettingsMap": {},
     "title": ""
    }
   },
   "outputs": [],
   "source": [
    "%sql\n",
    "CREATE TABLE IF NOT EXISTS projetos.silver.ecommerce_transactions (\n",
    "  id BIGINT\tGENERATED ALWAYS AS IDENTITY PRIMARY KEY,\n",
    "  event_date DATE NOT NULL,\n",
    "  event_timestamp TIMESTAMP,\n",
    "  invoice_no STRING,\n",
    "  stock_code STRING,\n",
    "  description STRING,\n",
    "  quantity BIGINT,\n",
    "  unit_price DOUBLE,\n",
    "  customer_id BIGINT,\n",
    "  country STRING\n",
    ")\n",
    "USING DELTA\n",
    "PARTITIONED BY (event_date)"
   ]
  },
  {
   "cell_type": "code",
   "execution_count": 0,
   "metadata": {
    "application/vnd.databricks.v1+cell": {
     "cellMetadata": {
      "byteLimit": 2048000,
      "implicitDf": true,
      "rowLimit": 10000
     },
     "inputWidgets": {},
     "nuid": "820c63e4-94a3-4886-bcab-833ddbbca5e6",
     "showTitle": false,
     "tableResultSettingsMap": {},
     "title": ""
    }
   },
   "outputs": [],
   "source": [
    "%sql\n",
    "CREATE TABLE IF NOT EXISTS projetos.gold.ecommerce_sales_agg (\n",
    "  id BIGINT\tGENERATED ALWAYS AS IDENTITY PRIMARY KEY,\n",
    "  event_date DATE NOT NULL, \n",
    "  event_timestamp TIMESTAMP, \n",
    "  customer_id BIGINT,\n",
    "  invoice_no STRING, \n",
    "  items_carts BIGINT, \n",
    "  cart_price DECIMAL(18,2), \n",
    "  country STRING\n",
    ") \n",
    "USING DELTA\n",
    "PARTITIONED BY (event_date)"
   ]
  }
 ],
 "metadata": {
  "application/vnd.databricks.v1+notebook": {
   "computePreferences": null,
   "dashboards": [],
   "environmentMetadata": {
    "base_environment": "",
    "environment_version": "2"
   },
   "inputWidgetPreferences": null,
   "language": "python",
   "notebookMetadata": {
    "mostRecentlyExecutedCommandWithImplicitDF": {
     "commandId": 6439179212835501,
     "dataframes": [
      "_sqldf"
     ]
    },
    "pythonIndentUnit": 4
   },
   "notebookName": "DDLs",
   "widgets": {}
  },
  "language_info": {
   "name": "python"
  }
 },
 "nbformat": 4,
 "nbformat_minor": 0
}
